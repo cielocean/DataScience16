{
 "cells": [
  {
   "cell_type": "markdown",
   "metadata": {},
   "source": [
    "Exercise from Think Stats, 2nd Edition (thinkstats2.com)<br>\n",
    "Allen Downey"
   ]
  },
  {
   "cell_type": "code",
   "execution_count": 19,
   "metadata": {
    "collapsed": false
   },
   "outputs": [],
   "source": [
    "%matplotlib inline"
   ]
  },
  {
   "cell_type": "markdown",
   "metadata": {},
   "source": [
    "Suppose one of your co-workers is expecting a baby and you are participating in an office pool to predict the date of birth. Assuming that bets are placed during the 30th week of pregnancy, what variables could you use to make the best prediction? You should limit yourself to variables that are known before the birth, and likely to be available to the people in the pool. "
   ]
  },
  {
   "cell_type": "code",
   "execution_count": 20,
   "metadata": {
    "collapsed": true
   },
   "outputs": [],
   "source": [
    "import nsfg\n",
    "import statsmodels.formula.api as smf\n",
    "import numpy as np\n",
    "\n",
    "df = nsfg.ReadFemPreg()"
   ]
  },
  {
   "cell_type": "code",
   "execution_count": 21,
   "metadata": {
    "collapsed": false
   },
   "outputs": [],
   "source": [
    "#Cleaning data\n",
    "#converting all babies value (not ascertained (value 7), don't know (value 9)) and female (2)) \n",
    "#to 0 except male babies (value 1)\n",
    "df.loc[df['babysex'] != 1, 'babysex'] = 0 \n",
    "\n",
    "baby = df[df.outcome == 1 & (df.prglngth >= 30)]"
   ]
  },
  {
   "cell_type": "code",
   "execution_count": 22,
   "metadata": {
    "collapsed": false
   },
   "outputs": [
    {
     "data": {
      "text/plain": [
       "\"\\ndef r2 (column_no):\\n    try:\\n        variable = str(baby.columns[column_no])\\n        formula ='prglngth ~' + variable\\n        model = smf.ols(formula, data = baby)\\n        result = model.fit()\\n        return (result.rsquared, result.f_pvalue)\\n    except: \\n        return (0,0)\\n\\n\\nvariable_r2 = np.empty(len(baby.columns), dtype=object)\\nvariable_p = np.empty(len(baby.columns), dtype=object)\\n\\nfor i in range(0, len(baby.columns)-1):\\n    variable_r2[i], variable_p[i] = r2(i)\\n    print baby.columns[i], variable_r2[i], variable_p[i]\\n\""
      ]
     },
     "execution_count": 22,
     "metadata": {},
     "output_type": "execute_result"
    }
   ],
   "source": [
    "\"\"\"\n",
    "def r2 (column_no):\n",
    "    try:\n",
    "        variable = str(baby.columns[column_no])\n",
    "        formula ='prglngth ~' + variable\n",
    "        model = smf.ols(formula, data = baby)\n",
    "        result = model.fit()\n",
    "        return (result.rsquared, result.f_pvalue)\n",
    "    except: \n",
    "        return (0,0)\n",
    "\n",
    "\n",
    "variable_r2 = np.empty(len(baby.columns), dtype=object)\n",
    "variable_p = np.empty(len(baby.columns), dtype=object)\n",
    "\n",
    "for i in range(0, len(baby.columns)-1):\n",
    "    variable_r2[i], variable_p[i] = r2(i)\n",
    "    print baby.columns[i], variable_r2[i], variable_p[i]\n",
    "\"\"\""
   ]
  },
  {
   "cell_type": "code",
   "execution_count": 23,
   "metadata": {
    "collapsed": false
   },
   "outputs": [
    {
     "name": "stdout",
     "output_type": "stream",
     "text": [
      "0.000193556647438\n"
     ]
    }
   ],
   "source": [
    "import chap01soln\n",
    "resp = chap01soln.ReadFemResp()\n",
    "resp.index = resp.caseid\n",
    "join = baby.join(resp, on='caseid', rsuffix='_r')\n",
    "    \n",
    "t = []\n",
    "for name in join.columns:\n",
    "    try:\n",
    "        if join[name].var() < 1e-7:\n",
    "            continue\n",
    "\n",
    "        formula = ('prglngth ~' + name).encode('ascii')\n",
    "        model = smf.ols(formula, data=join)\n",
    "        if model.nobs < len(join)/2:\n",
    "            continue\n",
    "\n",
    "        results = model.fit()\n",
    "        \n",
    "        if name == 'babysex':\n",
    "            print results.rsquared\n",
    "            \n",
    "    except (ValueError, TypeError):\n",
    "        continue\n",
    "\n",
    "    t.append((results.rsquared, name))"
   ]
  },
  {
   "cell_type": "code",
   "execution_count": 24,
   "metadata": {
    "collapsed": false
   },
   "outputs": [
    {
     "name": "stdout",
     "output_type": "stream",
     "text": [
      "prglngth 1.0\n",
      "wksgest 0.84834444419\n",
      "totalwgt_lb 0.179548090415\n",
      "lbw1 0.172861427756\n",
      "birthwgt_lb 0.171898841283\n",
      "mosgest 0.121330423471\n",
      "prglngth_i 0.0152701066371\n",
      "nbrnaliv 0.00769581202714\n",
      "canhaver 0.00593856647669\n",
      "datcon01_i 0.00430171280399\n",
      "pregend1 0.00391214836732\n",
      "con1mar1_i 0.00389093115987\n",
      "anynurse 0.0033435395396\n",
      "bfeedwks 0.00331167840872\n",
      "rmarout08_i 0.00267785152974\n",
      "marout08_i 0.00267785152974\n",
      "coh1dur 0.00263088703117\n",
      "datend02_i 0.00251119531636\n",
      "datcon02_i 0.00251119531636\n",
      "bpa_bdscheck1 0.00249843519185\n",
      "gestasun_w 0.0024438427747\n",
      "everhyst 0.00233317151081\n",
      "totincr 0.00230344114738\n",
      "agecon02_i 0.00230286994584\n",
      "hyst 0.00229607320666\n",
      "wantbold 0.00227411957336\n",
      "ageprg02_i 0.002245700018\n",
      "p1yrage 0.00220709648186\n",
      "mar1con1_i 0.00219110817676\n",
      "marcon08_i 0.00218870780021\n"
     ]
    }
   ],
   "source": [
    "t.sort(reverse=True)\n",
    "for mse, name in t[:30]:\n",
    "    print name, mse"
   ]
  },
  {
   "cell_type": "markdown",
   "metadata": {},
   "source": [
    "Sorting out columns which gave r^2 > 0.0025,"
   ]
  },
  {
   "cell_type": "code",
   "execution_count": 25,
   "metadata": {
    "collapsed": false
   },
   "outputs": [
    {
     "name": "stdout",
     "output_type": "stream",
     "text": [
      "datcon01_i 0.00430171280399\n",
      "con1mar1_i 0.00389093115987\n",
      "rmarout08_i 0.00267785152974\n",
      "marout08_i 0.00267785152974\n",
      "coh1dur 0.00263088703117\n",
      "datcon02_i 0.00251119531636\n"
     ]
    }
   ],
   "source": [
    "sig_variable = []\n",
    "unknown_list = ['prglngth', 'wksgest', 'totalwgt_lb', 'birthwgt_lb', 'lbw1, mosgest', \n",
    "                'prglngth_i', 'canhaver', 'lbw1', 'mosgest', 'nbrnaliv', 'anynurse',\n",
    "                'bfeedwks', 'pregend1', 'rmarout11_i', 'datend02_i', 'marout11_i']\n",
    "for mse, name in t[:30]:\n",
    "    if (mse > 0.0025) & (name not in unknown_list):\n",
    "        sig_variable.append ((mse, name))\n",
    "\n",
    "\n",
    "for mse, name in sig_variable[:30]:\n",
    "    print name, mse"
   ]
  },
  {
   "cell_type": "markdown",
   "metadata": {},
   "source": [
    "datcon01_i: DATCON01 (CM date when pregnancy began - 1st ) Imputation Flag  "
   ]
  },
  {
   "cell_type": "markdown",
   "metadata": {},
   "source": [
    "mar1con1_i: MAR1CON1 (Months btw/1st marriage & 1st conception (or interview)) Imputation Flag"
   ]
  },
  {
   "cell_type": "markdown",
   "metadata": {},
   "source": [
    "marcon11_i: MARCON11 (Formal marital status when pregnancy began - 11th ) Imputation Flag "
   ]
  },
  {
   "cell_type": "markdown",
   "metadata": {},
   "source": [
    "datcon02_i: DATCON02 (CM date when pregnancy began - 2nd) Imputation Flag"
   ]
  },
  {
   "cell_type": "markdown",
   "metadata": {},
   "source": [
    "cmlastlb: CM for R's most recent live birth"
   ]
  },
  {
   "cell_type": "markdown",
   "metadata": {},
   "source": [
    "Removing variables with less significant r^2 values and information the co-workers cannot know beforehand, the variables we are left with are mainly imputation flags which are not good indicators to base the prediction on. Also, they are not variables which the co-worker might know.\n",
    "Guessing might be a better option."
   ]
  },
  {
   "cell_type": "markdown",
   "metadata": {},
   "source": [
    "## Clarifying Questions\n",
    "\n",
    "Use this space to ask questions regarding the content covered in the reading. These questions should be restricted to helping you better understand the material. For questions that push beyond what is in the reading, use the next answer field. If you don't have a fully formed question, but are generally having a difficult time with a topic, you can indicate that here as well."
   ]
  },
  {
   "cell_type": "markdown",
   "metadata": {},
   "source": []
  },
  {
   "cell_type": "markdown",
   "metadata": {},
   "source": [
    "## Enrichment Questions\n",
    "\n",
    "Use this space to ask any questions that go beyond (but are related to) the material presented in this reading. Perhaps there is a particular topic you'd like to see covered in more depth. Perhaps you'd like to know how to use a library in a way that wasn't show in the reading. One way to think about this is what additional topics would you want covered in the next class (or addressed in a followup e-mail to the class). I'm a little fuzzy on what stuff will likely go here, so we'll see how things evolve.\n",
    "\n",
    "I would like a more through discussion on regression."
   ]
  },
  {
   "cell_type": "markdown",
   "metadata": {},
   "source": []
  },
  {
   "cell_type": "markdown",
   "metadata": {},
   "source": [
    "## Additional Resources / Explorations\n",
    "\n",
    "If you found any useful resources, or tried some useful exercises that you'd like to report please do so here. Let us know what you did, what you learned, and how others can replicate it."
   ]
  },
  {
   "cell_type": "markdown",
   "metadata": {},
   "source": []
  }
 ],
 "metadata": {
  "kernelspec": {
   "display_name": "Python 2",
   "language": "python",
   "name": "python2"
  },
  "language_info": {
   "codemirror_mode": {
    "name": "ipython",
    "version": 2
   },
   "file_extension": ".py",
   "mimetype": "text/x-python",
   "name": "python",
   "nbconvert_exporter": "python",
   "pygments_lexer": "ipython2",
   "version": "2.7.11"
  }
 },
 "nbformat": 4,
 "nbformat_minor": 0
}
